{
 "cells": [
  {
   "cell_type": "markdown",
   "metadata": {
    "id": "3dHZK7R1En0c"
   },
   "source": [
    "## Problem 2). <font color=darkblue >Build a Naive Bayes model on the data set for classifying the ham and spam."
   ]
  },
  {
   "cell_type": "markdown",
   "metadata": {
    "id": "HskU2u_1En0d"
   },
   "source": [
    "## <font color=blue>Step 1.<font/>\n",
    "\n",
    "### <font color=red>Bussiness objective:-<font/> <font color=black>To perfectly classify the Ham and Spam by building efficient model with best accuracay rate.<font/>\n",
    "\n",
    "### <font color=red>Bussiness contraints:- <font/> <font color=black>Minimize the model error percentage.<font/>"
   ]
  },
  {
   "cell_type": "markdown",
   "metadata": {
    "id": "zRim_ItREn0d"
   },
   "source": [
    "## <font color=blue>Step 2.<font/>\n",
    "\n",
    "### <font color=red>Data Understanding and Analysis<font/>"
   ]
  },
  {
   "cell_type": "code",
   "execution_count": null,
   "metadata": {
    "id": "uY3d-8waEn0e"
   },
   "outputs": [],
   "source": [
    "# Importig all the dependencies/lobraries\n",
    "\n",
    "import pandas as pd\n",
    "import numpy as np\n",
    "from sklearn.feature_extraction.text import CountVectorizer, TfidfTransformer\n"
   ]
  },
  {
   "cell_type": "code",
   "execution_count": null,
   "metadata": {
    "id": "tlhDnj42En0f"
   },
   "outputs": [],
   "source": [
    "######## Loading the data set\n",
    "email_data = pd.read_csv(\"sms_raw_NB.csv\", encoding = \"ISO-8859-1\")\n"
   ]
  },
  {
   "cell_type": "markdown",
   "metadata": {
    "id": "7-j6pmQvEn0f"
   },
   "source": [
    "## <font color=blue>Step 3.<font/>\n",
    "\n",
    "### <font color=red>Data Pre-Cleansing or Data Preparation:<font/>"
   ]
  },
  {
   "cell_type": "code",
   "execution_count": null,
   "metadata": {
    "id": "gb75_xRmEn0f"
   },
   "outputs": [],
   "source": [
    "### cleaning data ####\n",
    "stop_words = stop_words.split(\"\\n\")\n",
    "\n",
    "# Defining the function\n",
    "def cleaning_text(i):\n",
    "    i = re.sub(\"[^A-Za-z\" \"]+\", \" \", i).lower()\n",
    "    w = []\n",
    "    for word in i.split(\" \"):\n",
    "        if len(word)>3:\n",
    "            w.append(word)\n",
    "    return (\" \".join(w))\n",
    "\n"
   ]
  },
  {
   "cell_type": "markdown",
   "metadata": {
    "id": "0Lcqwi9uEn0g"
   },
   "source": [
    "#### Testing the above specified function"
   ]
  },
  {
   "cell_type": "code",
   "execution_count": null,
   "metadata": {
    "id": "KjW_vxdfEn0g"
   },
   "outputs": [],
   "source": [
    "# testing above function with sample text => removes punctuations, numbers\n",
    "cleaning_text(\"Hope you are having a good week. Just checking in\")\n",
    "cleaning_text(\"hope i can understand your feelings 123121. 123 hi how .. are you?\")\n",
    "cleaning_text(\"Hi how are you, I am good\")\n",
    "\n",
    "email_data.text = email_data.text.apply(cleaning_text)\n",
    "\n",
    "# removing empty rows\n",
    "email_data = email_data.loc[email_data.text != \"\",:]"
   ]
  },
  {
   "cell_type": "markdown",
   "metadata": {
    "id": "DkrURBowEn0g"
   },
   "source": [
    "### splitting data into train and test data sets"
   ]
  },
  {
   "cell_type": "code",
   "execution_count": null,
   "metadata": {
    "id": "VglKUuw4En0h"
   },
   "outputs": [],
   "source": [
    "\n",
    "from sklearn.model_selection import train_test_split\n",
    "\n",
    "email_train, email_test = train_test_split(email_data, test_size = 0.2)\n",
    "\n",
    "\n",
    "# creating a matrix of token counts for the entire text document \n",
    "def split_into_words(i):\n",
    "    return [word for word in i.split(\" \")]\n"
   ]
  },
  {
   "cell_type": "code",
   "execution_count": null,
   "metadata": {
    "id": "y7-K8KhAEn0h"
   },
   "outputs": [],
   "source": [
    "\n",
    "# Defining the preparation of email texts into word count matrix format - Bag of Words\n",
    "emails_bow = CountVectorizer(analyzer = split_into_words).fit(email_data.text)\n",
    "\n",
    "# Defining BOW for all messages\n",
    "all_emails_matrix = emails_bow.transform(email_data.text)\n",
    "\n",
    "# For training messages\n",
    "train_emails_matrix = emails_bow.transform(email_train.text)\n",
    "\n",
    "# For testing messages\n",
    "test_emails_matrix = emails_bow.transform(email_test.text)\n",
    "\n",
    "# Learning Term weighting and normalizing on entire emails\n",
    "tfidf_transformer = TfidfTransformer().fit(all_emails_matrix)"
   ]
  },
  {
   "cell_type": "code",
   "execution_count": null,
   "metadata": {
    "id": "G4XPGEqkEn0h",
    "outputId": "12225cb3-a0f5-4adc-882f-83261b33f5a0"
   },
   "outputs": [
    {
     "data": {
      "text/plain": [
       "(4447, 6661)"
      ]
     },
     "execution_count": 91,
     "metadata": {},
     "output_type": "execute_result"
    }
   ],
   "source": [
    "# Preparing TFIDF for train emails\n",
    "train_tfidf = tfidf_transformer.transform(train_emails_matrix)\n",
    "train_tfidf.shape # (row, column)\n",
    "\n"
   ]
  },
  {
   "cell_type": "code",
   "execution_count": null,
   "metadata": {
    "id": "kdK-LEt9En0i",
    "outputId": "477f6261-7d12-4b6f-fd88-f505332e765f"
   },
   "outputs": [
    {
     "data": {
      "text/plain": [
       "(1112, 6661)"
      ]
     },
     "execution_count": 92,
     "metadata": {},
     "output_type": "execute_result"
    }
   ],
   "source": [
    "# Preparing TFIDF for test emails\n",
    "test_tfidf = tfidf_transformer.transform(test_emails_matrix)\n",
    "test_tfidf.shape #  (row, column)\n",
    "\n"
   ]
  },
  {
   "cell_type": "markdown",
   "metadata": {
    "id": "ePXmP4BIEn0i"
   },
   "source": [
    "## <font color=blue>Step 4.<font/>\n",
    "\n",
    "### <font color=red>Model Building - Multinomial NaiveBayes<font/>"
   ]
  },
  {
   "cell_type": "code",
   "execution_count": null,
   "metadata": {
    "id": "9nsjaGCHEn0i",
    "outputId": "a1c8ae70-c8e9-4abf-d61c-070eefa0e245"
   },
   "outputs": [
    {
     "data": {
      "text/plain": [
       "MultinomialNB()"
      ]
     },
     "execution_count": 93,
     "metadata": {},
     "output_type": "execute_result"
    }
   ],
   "source": [
    "## Preparing a naive bayes model on training data set \n",
    "\n",
    "from sklearn.naive_bayes import MultinomialNB as MB\n",
    "\n",
    "# Multinomial Naive Bayes\n",
    "classifier_mb = MB()\n",
    "classifier_mb.fit(train_tfidf, email_train.type)\n"
   ]
  },
  {
   "cell_type": "markdown",
   "metadata": {
    "id": "z98gaLugEn0j"
   },
   "source": [
    "## <font color=blue>Step 5.<font/>\n",
    "\n",
    "### <font color=red>Model Evaluation - Multinomial Naive Bayes<font/>"
   ]
  },
  {
   "cell_type": "code",
   "execution_count": null,
   "metadata": {
    "id": "3wc7sopZEn0j",
    "outputId": "963e2b0c-d501-4ee8-e6d8-e62f39961f17"
   },
   "outputs": [
    {
     "data": {
      "text/plain": [
       "0.9698673262873847"
      ]
     },
     "execution_count": 96,
     "metadata": {},
     "output_type": "execute_result"
    }
   ],
   "source": [
    "\n",
    "# Training Data accuracy\n",
    "train_pred_m = classifier_mb.predict(train_tfidf)\n",
    "accuracy_train_m = np.mean(train_pred_m == email_train.type)\n",
    "accuracy_train_m"
   ]
  },
  {
   "cell_type": "code",
   "execution_count": null,
   "metadata": {
    "id": "dFm-69bTEn0j",
    "outputId": "33322a13-0152-4149-b0ea-8e408aa92cc4"
   },
   "outputs": [
    {
     "data": {
      "text/plain": [
       "0.960431654676259"
      ]
     },
     "execution_count": 94,
     "metadata": {},
     "output_type": "execute_result"
    }
   ],
   "source": [
    "# Evaluation on Test Data\n",
    "test_pred_m = classifier_mb.predict(test_tfidf)\n",
    "accuracy_test_m = np.mean(test_pred_m == email_test.type)\n",
    "accuracy_test_m"
   ]
  },
  {
   "cell_type": "code",
   "execution_count": null,
   "metadata": {
    "id": "sSJNZ81xEn0j",
    "outputId": "a05ace26-a869-4cde-9e0e-363b4453b77e"
   },
   "outputs": [
    {
     "data": {
      "text/html": [
       "<div>\n",
       "<style scoped>\n",
       "    .dataframe tbody tr th:only-of-type {\n",
       "        vertical-align: middle;\n",
       "    }\n",
       "\n",
       "    .dataframe tbody tr th {\n",
       "        vertical-align: top;\n",
       "    }\n",
       "\n",
       "    .dataframe thead th {\n",
       "        text-align: right;\n",
       "    }\n",
       "</style>\n",
       "<table border=\"1\" class=\"dataframe\">\n",
       "  <thead>\n",
       "    <tr style=\"text-align: right;\">\n",
       "      <th>type</th>\n",
       "      <th>ham</th>\n",
       "      <th>spam</th>\n",
       "    </tr>\n",
       "    <tr>\n",
       "      <th>row_0</th>\n",
       "      <th></th>\n",
       "      <th></th>\n",
       "    </tr>\n",
       "  </thead>\n",
       "  <tbody>\n",
       "    <tr>\n",
       "      <th>ham</th>\n",
       "      <td>965</td>\n",
       "      <td>44</td>\n",
       "    </tr>\n",
       "    <tr>\n",
       "      <th>spam</th>\n",
       "      <td>0</td>\n",
       "      <td>103</td>\n",
       "    </tr>\n",
       "  </tbody>\n",
       "</table>\n",
       "</div>"
      ],
      "text/plain": [
       "type   ham  spam\n",
       "row_0           \n",
       "ham    965    44\n",
       "spam     0   103"
      ]
     },
     "execution_count": 95,
     "metadata": {},
     "output_type": "execute_result"
    }
   ],
   "source": [
    "from sklearn.metrics import accuracy_score\n",
    "accuracy_score(test_pred_m, email_test.type) \n",
    "\n",
    "pd.crosstab(test_pred_m, email_test.type)"
   ]
  }
 ],
 "metadata": {
  "colab": {
   "collapsed_sections": [],
   "name": "Q 2- 360DigiTMG Assignments - NaiveBayes.ipynb",
   "provenance": []
  },
  "kernelspec": {
   "display_name": "Python 3 (ipykernel)",
   "language": "python",
   "name": "python3"
  },
  "language_info": {
   "codemirror_mode": {
    "name": "ipython",
    "version": 3
   },
   "file_extension": ".py",
   "mimetype": "text/x-python",
   "name": "python",
   "nbconvert_exporter": "python",
   "pygments_lexer": "ipython3",
   "version": "3.9.7"
  }
 },
 "nbformat": 4,
 "nbformat_minor": 1
}
